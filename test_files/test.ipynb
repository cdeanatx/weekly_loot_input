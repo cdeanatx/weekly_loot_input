{
 "cells": [
  {
   "cell_type": "code",
   "execution_count": 1,
   "metadata": {},
   "outputs": [],
   "source": [
    "# Import dependencies\n",
    "from __future__ import print_function\n",
    "import pandas as pd\n",
    "from gspread_pandas import Spread, Client\n",
    "import gspread_pandas\n",
    "import numpy as np\n",
    "from datetime import date, timedelta\n",
    "import time"
   ]
  },
  {
   "cell_type": "code",
   "execution_count": 2,
   "metadata": {},
   "outputs": [],
   "source": [
    "# Get date of most recent Tuesday and format it to pull associated loot file\n",
    "today = date.today()\n",
    "weekday = today.weekday()\n",
    "if weekday <= 1:\n",
    "    loot_date = today - timedelta(weekday + 6)\n",
    "else:\n",
    "    loot_date = today - timedelta(weekday - 1)\n",
    "date_str = loot_date.strftime(\"%m.%d\")"
   ]
  },
  {
   "cell_type": "code",
   "execution_count": 3,
   "metadata": {},
   "outputs": [],
   "source": [
    "# Read in loot file and filter out erroneous lines\n",
    "loot_received_df = pd.read_csv(f'../loot_logs/{date_str}.txt', sep='\\n', header=None)\n",
    "loot_received_df.columns = ['full_lines']\n",
    "loot_received_df = loot_received_df.loc[loot_received_df['full_lines'].str.match(r'^-.*')]"
   ]
  },
  {
   "cell_type": "code",
   "execution_count": 4,
   "metadata": {},
   "outputs": [],
   "source": [
    "# Use regex to extract item looted and player received from each line and save to df\n",
    "loot_received_df[['item','player']] = loot_received_df['full_lines'].str.extract(r'^-\\s(.+)\\s-\\s0\\sDKP\\s-\\s(\\w+)')\n",
    "loot_received_df = loot_received_df[['item', 'player']]"
   ]
  },
  {
   "cell_type": "code",
   "execution_count": 5,
   "metadata": {},
   "outputs": [],
   "source": [
    "# Remove rows containing items not on loot lists\n",
    "bad_items = ['Staff of Disintegration', 'Warp Slicer', 'Cosmic Infuser',\n",
    "            'Phaseshift Bulwark', 'Devastation', 'Infinity Blade',\n",
    "            'Netherstrand Longbow', 'Nether Spike', 'Staff of Disintegration',\n",
    "            'Pit Lord\\'s Satchel', 'Pattern: Belt of Deep Shadow',\n",
    "            'Pattern: Belt of the Black Eagle', 'Nether Vortex',\n",
    "            'Pattern: Boots of the Crimson Hawk']\n",
    "\n",
    "loot_received_df = loot_received_df.loc[~loot_received_df['item'].isin(bad_items)]\n",
    "loot_received_df = loot_received_df.loc[loot_received_df['player'] != 'Roll']"
   ]
  },
  {
   "cell_type": "code",
   "execution_count": 6,
   "metadata": {},
   "outputs": [],
   "source": [
    "# Set up gspread_pandas\n",
    "config = gspread_pandas.conf.get_config(conf_dir='.', file_name='google_secret.json')\n",
    "client = Client(user='cd002009@gmail.com', config=config)\n",
    "spread = Spread(user='cd002009@gmail.com', spread='1QjBqgl7HWWhQv4p3thFiZOfmZaTK3FasPHoE7THBxPc', config=config)"
   ]
  },
  {
   "cell_type": "code",
   "execution_count": 7,
   "metadata": {},
   "outputs": [],
   "source": [
    "# Open \"Data\" sheet and import it to df\n",
    "spread.open_sheet('Data')\n",
    "df = spread.sheet_to_df(index=None, header_rows=1, start_row=2)"
   ]
  },
  {
   "cell_type": "code",
   "execution_count": 8,
   "metadata": {},
   "outputs": [],
   "source": [
    "# Open \"Roster\" sheet, import it to df, and filter down to relevant columns\n",
    "spread.open_sheet('Roster')\n",
    "roster_df = spread.sheet_to_df(index=None, header_rows=1, start_row=1)\n",
    "roster_df = roster_df.iloc[:,6:10]"
   ]
  },
  {
   "cell_type": "code",
   "execution_count": 9,
   "metadata": {},
   "outputs": [],
   "source": [
    "# Filter df from \"Data\" to show only relevant columns then filter out Inactive players, drop additional irrelevant columns, and apply numeric values\n",
    "df_filter = df.iloc[:, 15:22]\n",
    "df_filter = df_filter.loc[df_filter['Rank'] != 'Inactive']\n",
    "df_filter = df_filter[['Player', 'Item', 'NumPassed', 'Equity']]\n",
    "df_filter[['NumPassed', 'Equity']] = df_filter[['NumPassed', 'Equity']].apply(pd.to_numeric)"
   ]
  },
  {
   "cell_type": "code",
   "execution_count": 10,
   "metadata": {},
   "outputs": [],
   "source": [
    "# Merge \"Roster\" and \"Data\" so each player's class is shown. This will be used to call the correct class sheets when updating loot passed/received\n",
    "df_merge = df_filter.merge(roster_df, how='left', left_on='Player', right_on='Name')\n",
    "df_merge = df_merge[['Player', 'Class', 'Item', 'NumPassed', 'Equity']]"
   ]
  },
  {
   "cell_type": "code",
   "execution_count": 11,
   "metadata": {},
   "outputs": [],
   "source": [
    "# Merge df containing weekly loot data with \"Roster\" to associate players with classes\n",
    "loot_received_merge_df = loot_received_df.merge(roster_df, how='left', left_on='player', right_on='Name')\n",
    "loot_received_merge_df = loot_received_merge_df[['item', 'player', 'Class']]"
   ]
  },
  {
   "cell_type": "code",
   "execution_count": 12,
   "metadata": {},
   "outputs": [],
   "source": [
    "# Funtion to generate a list of players who \"passed\" on a specific item. This will return a list of tuples in the format (class, player)\n",
    "# During refactorization, check final if-statment. It appears to be redundant\n",
    "def passers(item, player_received, loot_list_df):\n",
    "    \n",
    "    # Create a df for the current item being assessed for \"passes\" sorted in descending order by \"Equity\"\n",
    "    df_curr_item = loot_list_df.loc[loot_list_df['Item'] == item].sort_values('Equity', ascending=False)\n",
    "    \n",
    "    # Determine the \"Equity cutoff\" by filtering the current item df on \"Player Received\"\n",
    "    # iloc[0] ensures cutoff is accurate in the event that player who received item has the item on their list twice\n",
    "    try:\n",
    "        equity_cutoff = int(df_curr_item.loc[df_curr_item['Player'] == player_received].iloc[0]['Equity'])\n",
    "    \n",
    "    # If the try-block generates an index error, the player who received the item does not have it on their list\n",
    "    # The item should have been marked as \"Roll\" and no pass credits are needed - return NaN\n",
    "    except IndexError:\n",
    "        return np.nan\n",
    "    \n",
    "    # Filter the current item df based on the equity cutoff\n",
    "    # Extract players and their classes who will receive pass credit for the current item\n",
    "    df_pass_curr_item = df_curr_item.loc[df_curr_item['Equity'] >= equity_cutoff]\n",
    "    pass_credit = df_pass_curr_item.loc[df_pass_curr_item['Player'] != player_received]['Player']\n",
    "    pass_class = df_pass_curr_item.loc[df_pass_curr_item['Player'] != player_received]['Class']\n",
    "\n",
    "    # If there are no passes, return NaN\n",
    "    if pass_credit.empty:\n",
    "        return np.nan\n",
    "    \n",
    "    # Convert players and classes to a list of tuples\n",
    "    else:\n",
    "        pass_credit = list(zip(pass_class, pass_credit))\n",
    "\n",
    "    # Convert empty lists to NaN\n",
    "    if pass_credit == []:\n",
    "        pass_credit == np.nan\n",
    "\n",
    "    return pass_credit"
   ]
  },
  {
   "cell_type": "code",
   "execution_count": 13,
   "metadata": {},
   "outputs": [],
   "source": [
    "# Convert item and player columns to lists and use list comprehension to generate list of players who passed on items\n",
    "items = list(loot_received_df['item'])\n",
    "players = list(loot_received_df['player'])\n",
    "pass_players = [passers(item, player, df_merge) for item, player in zip(items, players)]"
   ]
  },
  {
   "cell_type": "code",
   "execution_count": 14,
   "metadata": {},
   "outputs": [],
   "source": [
    "# Copy loot df, add passes to new column, reorder/rename/combine columns\n",
    "loot_entry_df = loot_received_merge_df.copy()\n",
    "loot_entry_df['pass_player'] = pass_players\n",
    "loot_entry_df.columns = ['item', 'player_received', 'received_class', 'players_passed']\n",
    "loot_entry_df['player_received'] = list(zip(loot_entry_df['player_received'], loot_entry_df['received_class']))\n",
    "loot_entry_df = loot_entry_df[['item', 'player_received', 'players_passed']]"
   ]
  },
  {
   "cell_type": "code",
   "execution_count": 15,
   "metadata": {},
   "outputs": [],
   "source": [
    "# Separate items with vs without passes\n",
    "no_passes = loot_entry_df.loc[loot_entry_df['players_passed'].isna()].reset_index(drop=True)[['item', 'player_received']]\n",
    "passes = loot_entry_df.loc[~loot_entry_df['players_passed'].isna()].reset_index(drop=True)"
   ]
  },
  {
   "cell_type": "code",
   "execution_count": 16,
   "metadata": {},
   "outputs": [],
   "source": [
    "# Create dict to store class sheets\n",
    "class_dfs = {'Druid': None, 'Hunter': None, 'Mage': None, 'Paladin': None, 'Priest': None, 'Rogue': None, 'Shaman': None, 'Warlock': None, 'Warrior': None}"
   ]
  },
  {
   "cell_type": "code",
   "execution_count": 17,
   "metadata": {},
   "outputs": [],
   "source": [
    "# Function to pull each class sheet from Google as df and store in dictionary with key = class_name\n",
    "def pull_class_sheets_from_google(df_dict, class_sheet):\n",
    "    start_time = time.time()\n",
    "    print(f'Pulling {class_sheet} sheet from Google.', end=\"\")\n",
    "    spread.open_sheet(class_sheet)\n",
    "    df_dict[class_sheet] = spread.sheet_to_df(index=None, header_rows=1, start_row=2)\n",
    "    print(f'Done in {time.time() - start_time:.2f} seconds.')"
   ]
  },
  {
   "cell_type": "code",
   "execution_count": 18,
   "metadata": {},
   "outputs": [
    {
     "name": "stdout",
     "output_type": "stream",
     "text": [
      "Pulling Druid sheet from Google.Done in 0.60 seconds.\n",
      "Pulling Hunter sheet from Google.Done in 0.71 seconds.\n",
      "Pulling Mage sheet from Google.Done in 0.59 seconds.\n",
      "Pulling Paladin sheet from Google.Done in 0.61 seconds.\n",
      "Pulling Priest sheet from Google.Done in 0.58 seconds.\n",
      "Pulling Rogue sheet from Google.Done in 0.68 seconds.\n",
      "Pulling Shaman sheet from Google.Done in 0.59 seconds.\n",
      "Pulling Warlock sheet from Google.Done in 0.59 seconds.\n",
      "Pulling Warrior sheet from Google.Done in 0.60 seconds.\n"
     ]
    }
   ],
   "source": [
    "# Iterate over classes and run function to pull and store class sheets in dict\n",
    "for key in class_dfs.keys():\n",
    "    pull_class_sheets_from_google(class_dfs, key)"
   ]
  },
  {
   "cell_type": "code",
   "execution_count": 19,
   "metadata": {},
   "outputs": [],
   "source": [
    "# Create a copy of dict and list of items/players passed\n",
    "class_dfs_copy = class_dfs.copy()\n",
    "items = passes['item'].to_list()\n",
    "pass_player_class = list(passes['players_passed'])"
   ]
  },
  {
   "cell_type": "code",
   "execution_count": 20,
   "metadata": {},
   "outputs": [],
   "source": [
    "# Function to enter passes for appropriate players \n",
    "def enter_passes(class_df_dict, item, list_of_tuples):\n",
    "    \n",
    "    # Iterate over each player/class tuple in the list for current item\n",
    "    for entry in list_of_tuples:\n",
    "        \n",
    "        player_class = entry[0]\n",
    "        player = entry[1]\n",
    "\n",
    "        # Retrieve current player's class sheet and store it in df\n",
    "        df = class_df_dict[player_class]\n",
    "\n",
    "        # Determine starting column of current player's LL and use it to extract player's full LL\n",
    "        start_col = df.columns.get_loc(player)\n",
    "        player_list = df.iloc[:, start_col:start_col + 4]\n",
    "\n",
    "        # Convert eligible columns to numbers and add one to pass column for current item\n",
    "        player_list = player_list.apply(pd.to_numeric, errors='ignore')\n",
    "        player_list.loc[player_list[''] == item, 'P'] += 1\n",
    "\n",
    "        # Store updated LL in class sheet df and update dictionary\n",
    "        df.iloc[:, start_col:start_col + 4] = player_list\n",
    "        class_df_dict[player_class] = df"
   ]
  },
  {
   "cell_type": "code",
   "execution_count": 21,
   "metadata": {},
   "outputs": [],
   "source": [
    "# Concatenate the item and player received columns from the passes df to the bottom of the no_passes df\n",
    "loot_entry_concat = pd.concat([no_passes, passes[['item', 'player_received']]], axis=0, ignore_index=True, join='outer')"
   ]
  },
  {
   "cell_type": "code",
   "execution_count": 22,
   "metadata": {},
   "outputs": [],
   "source": [
    "# Function to enter loot received\n",
    "def enter_loot(class_df_dict, item, player_class_tuple, date_received):\n",
    "    \n",
    "    # Save player and class as variables\n",
    "    player_class = player_class_tuple[1]\n",
    "    player = player_class_tuple[0]\n",
    "    \n",
    "    # Call class df for current player and extract their loot list\n",
    "    df = class_df_dict[player_class]\n",
    "    start_col = df.columns.get_loc(player)\n",
    "    player_list = df.iloc[:, start_col:start_col + 5]\n",
    "\n",
    "    # Convert data to numbers where applicable then apply date item was received in the appropriate row\n",
    "    player_list = player_list.apply(pd.to_numeric, errors='ignore')\n",
    "    player_list.loc[player_list[''] == item, 'Date'] = date_received\n",
    "\n",
    "    # Update player's LL in class df and update class df dictionary\n",
    "    df.iloc[:, start_col:start_col + 5] = player_list\n",
    "    class_df_dict[player_class] = df"
   ]
  },
  {
   "cell_type": "code",
   "execution_count": 23,
   "metadata": {},
   "outputs": [],
   "source": [
    "# Apply proper formatting to loot_date\n",
    "loot_date_format = loot_date.strftime('%#m/%#d/%y')\n",
    "\n",
    "# Enter loot for all items and players\n",
    "for item, entry in zip(loot_entry_concat['item'], loot_entry_concat['player_received']):\n",
    "    enter_loot(class_dfs_copy, item, entry, loot_date_format)"
   ]
  },
  {
   "cell_type": "code",
   "execution_count": 24,
   "metadata": {},
   "outputs": [],
   "source": [
    "# Enter passes for all items and players\n",
    "for item, player in zip(items, pass_player_class):\n",
    "    enter_passes(class_dfs_copy, item, player)"
   ]
  },
  {
   "cell_type": "code",
   "execution_count": 25,
   "metadata": {},
   "outputs": [],
   "source": [
    "# Function to push updated class dfs to Google Sheet\n",
    "def push_class_sheets_to_google(class_sheet):\n",
    "\n",
    "    start_time = time.time()\n",
    "    print(f'Passing {class_sheet} sheet to Google...', end=\"\")\n",
    "    spread.open_sheet(class_sheet)\n",
    "\n",
    "    # Due to the complexity of the Google Sheet, it can take several minutes to finish computing\n",
    "    # This try-except block is in place to identify timeout errors, so that failed uploads can be re-tried.\n",
    "    try:\n",
    "        spread.df_to_sheet(class_dfs_copy[class_sheet], index=False, headers=False, start='A5')\n",
    "    except:\n",
    "        print(f'Failed. Moving to next.')\n",
    "        return\n",
    "    print(f'Done in {time.time() - start_time:.2f} seconds.')"
   ]
  },
  {
   "cell_type": "code",
   "execution_count": 26,
   "metadata": {},
   "outputs": [
    {
     "name": "stdout",
     "output_type": "stream",
     "text": [
      "Passing Druid sheet to Google...Done in 1.08 seconds.\n",
      "Next iteration begins in 240 seconds.\n",
      "Passing Hunter sheet to Google...Done in 42.02 seconds.\n",
      "Next iteration begins in 240 seconds.\n",
      "Passing Mage sheet to Google...Done in 48.69 seconds.\n",
      "Next iteration begins in 240 seconds.\n",
      "Passing Paladin sheet to Google...Done in 29.55 seconds.\n",
      "Next iteration begins in 240 seconds.\n",
      "Passing Priest sheet to Google...Done in 26.25 seconds.\n",
      "Next iteration begins in 240 seconds.\n",
      "Passing Rogue sheet to Google...Done in 14.06 seconds.\n",
      "Next iteration begins in 240 seconds.\n",
      "Passing Shaman sheet to Google...Done in 18.55 seconds.\n",
      "Next iteration begins in 240 seconds.\n",
      "Passing Warlock sheet to Google...Done in 20.92 seconds.\n",
      "Next iteration begins in 240 seconds.\n",
      "Passing Warrior sheet to Google...Done in 20.39 seconds.\n"
     ]
    }
   ],
   "source": [
    "sleep_time = 240\n",
    "\n",
    "# Loop through class dfs and upload them to Google Sheet\n",
    "for key in class_dfs_copy.keys():\n",
    "    \n",
    "    # Warrior is always the last key, so we don't need to sleep after it to allow spreadsheet to finish its computing\n",
    "    if key == 'Warrior':\n",
    "        push_class_sheets_to_google(key)\n",
    "        break\n",
    "\n",
    "    push_class_sheets_to_google(key)\n",
    "    print(f'Next iteration begins in {sleep_time} seconds.')\n",
    "    time.sleep(sleep_time)"
   ]
  }
 ],
 "metadata": {
  "interpreter": {
   "hash": "8e4c2eecffc4f9cadb15c2b121d59bc479b317acb70154dd7982f16e35836098"
  },
  "kernelspec": {
   "display_name": "Python 3.9.6 64-bit ('PythonMaster': conda)",
   "name": "python3"
  },
  "language_info": {
   "codemirror_mode": {
    "name": "ipython",
    "version": 3
   },
   "file_extension": ".py",
   "mimetype": "text/x-python",
   "name": "python",
   "nbconvert_exporter": "python",
   "pygments_lexer": "ipython3",
   "version": "3.9.6"
  },
  "orig_nbformat": 4
 },
 "nbformat": 4,
 "nbformat_minor": 2
}
